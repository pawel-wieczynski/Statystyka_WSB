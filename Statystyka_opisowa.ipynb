{
 "cells": [
  {
   "cell_type": "code",
   "execution_count": null,
   "metadata": {},
   "outputs": [],
   "source": [
    "import numpy as np\n",
    "import pandas as pd\n",
    "import seaborn as sns\n",
    "import matplotlib.pyplot as plt\n",
    "import scipy.stats as sps"
   ]
  },
  {
   "cell_type": "code",
   "execution_count": null,
   "metadata": {},
   "outputs": [],
   "source": [
    "tips = sns.load_dataset('tips')\n",
    "tips.head()"
   ]
  },
  {
   "cell_type": "markdown",
   "metadata": {},
   "source": [
    "### Miary średnie"
   ]
  },
  {
   "cell_type": "markdown",
   "metadata": {},
   "source": [
    "Średnia arytmetyczna - najczęściej stosowana miara wartości przeciętnej\n",
    "$$\n",
    "\\overline{x} = \\frac{x_1 + x_2 + \\dots + x_n}{n} = \\frac{1}{n} \\sum_{i=1}^n x_i\n",
    "$$\n",
    "\n",
    "Średnia geometryczna - do badania średniego tempa zmian jakiegoś zjawiska w czasie\n",
    "$$\n",
    "\\overline{x}_g = \\sqrt[n]{x_1 x_2 \\dots x_n} = \\left( {\\prod_{i=1}^n x_i } \\right)^{1/n}\n",
    "$$\n",
    "\n",
    "Średnia harmoniczna - gdy dane są w jednostkach względnych, np. prędkość w km/h, gęstość zaludnienia w osobach/km kw.\n",
    "$$\n",
    "\\overline{x}_h = \\frac{n}{\\sum_{i=1}^n \\frac{1}{x_i}}\n",
    "$$\n"
   ]
  },
  {
   "cell_type": "code",
   "execution_count": null,
   "metadata": {},
   "outputs": [],
   "source": []
  },
  {
   "cell_type": "code",
   "execution_count": null,
   "metadata": {},
   "outputs": [],
   "source": []
  },
  {
   "cell_type": "code",
   "execution_count": null,
   "metadata": {},
   "outputs": [],
   "source": []
  },
  {
   "cell_type": "markdown",
   "metadata": {},
   "source": [
    "Dla miar średnich możemy również policzyć ich wersje ważone, np. ważona średnia arytmetyczna:\n",
    "$$\n",
    "\\overline{x} = \\frac{\\sum_{i=1}^n x_i w_i}{\\sum_{i=1}^n w_i} \n",
    "$$"
   ]
  },
  {
   "cell_type": "code",
   "execution_count": null,
   "metadata": {},
   "outputs": [],
   "source": []
  },
  {
   "cell_type": "markdown",
   "metadata": {},
   "source": [
    "Kwantyle - sortujemy dane i dzielimy na równe części, najczęściej są to:\n",
    " - kwartyle - 4 części\n",
    " - decyle - 10 części\n",
    " - centyle/percentyle - 100 części\n",
    " - kwantyle - sami zadajemy ilość podziałów\n",
    "\n",
    "Kwartyle oznaczamy $Q_1, Q_2, Q_3$. Drugi kwartyl nazywamy medianą."
   ]
  },
  {
   "cell_type": "code",
   "execution_count": null,
   "metadata": {},
   "outputs": [],
   "source": []
  },
  {
   "cell_type": "markdown",
   "metadata": {},
   "source": [
    "Dominanta / moda - najczęściej występująca wartość."
   ]
  },
  {
   "cell_type": "code",
   "execution_count": null,
   "metadata": {},
   "outputs": [],
   "source": []
  },
  {
   "cell_type": "markdown",
   "metadata": {},
   "source": [
    "### Miary zmienności"
   ]
  },
  {
   "cell_type": "code",
   "execution_count": null,
   "metadata": {},
   "outputs": [],
   "source": []
  },
  {
   "cell_type": "markdown",
   "metadata": {},
   "source": [
    "Odchylenie przeciętne:\n",
    "$$\n",
    "d = \\frac{1}{n} \\sum_{i=1}^n | x_i - \\overline{x} |\n",
    "$$\n",
    "\n",
    "Odchylenie ćwiartkowe:\n",
    "$$\n",
    "Q = \\frac{Q_3 - Q_1}{2}\n",
    "$$\n",
    "\n",
    "Wariancja:\n",
    "$$\n",
    "s^2 = \\frac{1}{n} \\sum_{i=1}^n \\left( x_i - \\overline{x} \\right)^2\n",
    "$$\n",
    "\n",
    "Odchylenie standardowe:\n",
    "$$\n",
    "s = \\sqrt{s^2}\n",
    "$$\n",
    "\n",
    "Typowy obszar zmienności:\n",
    "$$\n",
    "Q_2 - Q < x_{typ} < Q_2 + Q \\quad \\text{lub} \\quad \\overline{x} - s < x_{typ} < \\overline{x} + s\n",
    "$$"
   ]
  },
  {
   "cell_type": "code",
   "execution_count": null,
   "metadata": {},
   "outputs": [],
   "source": []
  },
  {
   "cell_type": "code",
   "execution_count": null,
   "metadata": {},
   "outputs": [],
   "source": []
  },
  {
   "cell_type": "code",
   "execution_count": null,
   "metadata": {},
   "outputs": [],
   "source": []
  },
  {
   "cell_type": "markdown",
   "metadata": {},
   "source": [
    "Dla powyższych miar możemy też policzyć miary względne, np. współczynnik zmienności:\n",
    "$$\n",
    "V_s = \\frac{s}{\\overline{x}} \\times 100 \\%\n",
    "$$"
   ]
  },
  {
   "cell_type": "code",
   "execution_count": null,
   "metadata": {},
   "outputs": [],
   "source": []
  },
  {
   "cell_type": "markdown",
   "metadata": {},
   "source": [
    "### Zadania (miary średnie i miary zmienności)"
   ]
  },
  {
   "cell_type": "markdown",
   "metadata": {},
   "source": [
    "Zadanie 1. Wczytaj zbiór danych *iris*. Policz wybrane statystyki opisowe w podziale na gatunek kwiata (kolumna *species*)."
   ]
  },
  {
   "cell_type": "markdown",
   "metadata": {},
   "source": [
    "Zadanie 2. Wczytaj zbiór danych *penguins*. Policz wybrane statystyki opisowe w podziale na gatunek pingiwna (kolumna *species*)."
   ]
  },
  {
   "cell_type": "markdown",
   "metadata": {},
   "source": [
    "Zadanie 3.\n",
    " - Policz średnią długość kielicha dla wszystkich irysów.\n",
    " - Policz średnią długość kielicha jako średnią wartość dla trzech grup (średnia ze średnich).\n",
    "\n",
    "Czy oba wyniki są takie same?\n",
    "\n",
    " - Policz średnią długość dzioba dla wszystkich pingwinów.\n",
    " - Policz średnią długość dzioba jako średnią wartość dla trzech grup (średnia ze średnich).\n",
    "\n",
    "Czy oba wyniki są takie same?\n",
    "\n",
    "Skąd wynika rozbieżność między tymi wynikami? Jaką operację wykonać, aby wyniki były takie same?"
   ]
  },
  {
   "cell_type": "markdown",
   "metadata": {},
   "source": [
    "Zadanie 4.\n",
    "- Wczytaj zbiór danych *flights*.\n",
    "- Policz sumę pasażerów linii lotniczych w poszczególnych latach.\n",
    "- Policz tempo zmian z roku na rok.\n",
    "- Policz średnie tempo zmian w badanym okresie."
   ]
  },
  {
   "cell_type": "markdown",
   "metadata": {},
   "source": [
    "Zadanie 5. \n",
    " - Wczytaj zbiór danych *anscombe*.\n",
    " - Policz średnią oraz odchylenie standardowe w podzialy na grupy (kolumna *datasets*).\n",
    " - Stwórz wykres punktowy dla każdej grupy.\n",
    " - Znajdź statystykę, która różni się między grupami."
   ]
  },
  {
   "cell_type": "markdown",
   "metadata": {},
   "source": [
    "### Miary asymetrii (skośności)"
   ]
  },
  {
   "cell_type": "markdown",
   "metadata": {},
   "source": [
    "Gdy dane są idealnie symetryczne, to średnia jest równa medianie. Brak symetrii może wystąpić z lewej lub z prawej strony. Wówczas:\n",
    " - mediana > średnia gdy dane są lewostronnie asymetryczne\n",
    " - mediana < średnia gdy dane są prawostronnie asymetryczne\n",
    "\n",
    "Możemy zdefiniować zatem wskaźnik asymetrii jako $W_s = \\overline{x} - Q_2$\n",
    "\n",
    "Wskaźnik asymetrii możemy też opisać za pomocą kwantyli:\n",
    " - $Q_3 - Q_2 = Q_2 - Q_1$ - gdy dane są symetryczne\n",
    " - $Q_3 - Q_2 < Q_2 - Q_1$ - gdy dane są lewostronnie asymetryczne\n",
    " - $Q_3 - Q_2 > Q_2 - Q_1$ - gdy dane są prawostronnie asymetryczne"
   ]
  },
  {
   "cell_type": "code",
   "execution_count": null,
   "metadata": {},
   "outputs": [],
   "source": [
    "np.random.seed(213)\n",
    "left_skewed = np.random.beta(5, 2, 1000)    # Dane lewostronnie asymetryczne\n",
    "symmetric = np.random.normal(0, 1, 1000)    # Dane prawie symetryczne\n",
    "right_skewed = np.random.beta(2, 5, 1000)   # Dane prawostronnie asymetryczne\n",
    "\n",
    "fig, axes = plt.subplots(1, 3, figsize = (15, 5))\n",
    "axes[0].hist(left_skewed, bins = 30, edgecolor = 'black')\n",
    "axes[1].hist(symmetric, bins = 30, edgecolor = 'black')\n",
    "axes[2].hist(right_skewed, bins = 30, edgecolor = 'black')"
   ]
  },
  {
   "cell_type": "markdown",
   "metadata": {},
   "source": [
    "Powyższe wskaźniki nie mówią nam jednak jak silna jest asymetria. Możemy więc policzyć miarę względną czyli współczynnik asymetrii:\n",
    "$$\n",
    "A_s = \\frac{\\overline{x} - Q_2}{s} \\quad \\text{lub} \\quad A_s \\frac{Q_3 + Q_1 - 2Q_2}{2Q}\n",
    "$$\n",
    "\n",
    "Jednak najczęściej stosowaną miarą jest moment centralny trzeciego rzędu, który liczymy analogicznie jak liczyliśmy wariancję:\n",
    "$$\n",
    "m_3 = \\frac{1}{n} \\sum_{i=1}^n (x_i - \\overline{x})^3\n",
    "$$\n",
    "\n",
    "Mamy $m_3 > 0$ dla asymetrii prawostronnej oraz $m_3 < 0$ dla asymetrii lewostronnej. Często wyraża się go w procentach:\n",
    "$$\n",
    "A_s = \\frac{m_3}{s^3} \\times 100 \\%\n",
    "$$"
   ]
  },
  {
   "cell_type": "markdown",
   "metadata": {},
   "source": [
    "### Miary koncentracji (ang. kurtosis)"
   ]
  },
  {
   "cell_type": "markdown",
   "metadata": {},
   "source": [
    "Aby opisać jak bardzo dane są \"spłaszczone\", możemy policzyć moment centralny czwartego rzędu:\n",
    "$$\n",
    "m_4 = \\frac{1}{n} \\sum_{i=1}^n (x_i - \\overline{x})^4\n",
    "$$\n",
    "\n",
    "Aby wyrazić go w procentach:\n",
    "$$\n",
    "a_4 = \\frac{m_4}{s^4} \\times 100 \\%\n",
    "$$"
   ]
  },
  {
   "cell_type": "markdown",
   "metadata": {},
   "source": [
    "### Zadania (miary asymetrii i miary koncentracji)"
   ]
  },
  {
   "cell_type": "markdown",
   "metadata": {},
   "source": [
    "Zadanie 6. Policz współczynnik asymetrii i koncentracji dla danych *anscombe* z zadania 5."
   ]
  },
  {
   "cell_type": "markdown",
   "metadata": {},
   "source": [
    "Zadanie 7. Wczytaj zbiór danych *mpg*. Stwórz tabelkę statystyk opisowych: średnia, pierwszy kwartyl, mediana, trzeci kwartyl, odchylenie standardowe, współczynnik asymetrii, współczynnik koncentracji. Wykonaj wykresy."
   ]
  },
  {
   "cell_type": "markdown",
   "metadata": {},
   "source": [
    "### Korelacja"
   ]
  },
  {
   "cell_type": "markdown",
   "metadata": {},
   "source": [
    "Dwie zmienne mogą zmieniać się w tym samym lub w przeciwnych kierunkach z różną siłą."
   ]
  },
  {
   "cell_type": "code",
   "execution_count": null,
   "metadata": {},
   "outputs": [],
   "source": []
  },
  {
   "cell_type": "markdown",
   "metadata": {},
   "source": [
    "Kowariancja między dwoma zmiennymi:\n",
    "\n",
    "$$\n",
    "\\operatorname{Cov}(x, y) = \\frac{1}{n} \\sum_{i=1}^n \\left( x_i - \\overline{x} \\right) \\left( y_i - \\overline{y} \\right) = \\overline{xy} - \\overline{x} \\ \\overline{y}\n",
    "$$\n",
    "\n",
    "Współczynnik korelacji liniowej Pearsona:\n",
    "$$\n",
    "r = \\frac{\\operatorname{Cov}(x, y)} {s(x) s(y)}\n",
    "$$"
   ]
  },
  {
   "cell_type": "code",
   "execution_count": null,
   "metadata": {},
   "outputs": [],
   "source": []
  },
  {
   "cell_type": "markdown",
   "metadata": {},
   "source": [
    "Zadanie 8. Policz współczynnik korelacji dla danych *anscombe*."
   ]
  },
  {
   "cell_type": "markdown",
   "metadata": {},
   "source": [
    "Uwaga! Współczynnik korelacji Pearsona działa tylko w przypadku, gdy między zmiennymi jest zależność liniowa. Ciekawy rysunek: https://en.wikipedia.org/wiki/Correlation\n",
    "\n",
    "Ponadto współczynnik korelacji Pearsona jest wrażliwy na wartości odstające."
   ]
  },
  {
   "cell_type": "code",
   "execution_count": null,
   "metadata": {},
   "outputs": [],
   "source": []
  },
  {
   "cell_type": "markdown",
   "metadata": {},
   "source": [
    "Gdy współzależność między zmiennymi ma charakter nieliniowy lub gdy występują wartości odstające lub gdy badane cechy mają charakter jakościowy, korzystamy ze współczynnika korelacji Spearmana:\n",
    "$$\n",
    "r_S = 1 - \\frac{6 \\sum_{i=1}^n d_i^2}{n (n^2 - 1)}\n",
    "$$\n",
    "gdzie $d_i$ to różnice między rangami badanych zmiennych.\n",
    "\n",
    "Przykład.\n",
    "| Uczeń | Czas nauki (godziny) | Wynik na egzaminie (\\%) |\n",
    "| --- | --- | --- |\n",
    "| Jan | 5 | 90 |\n",
    "| Kasia | 3 | 70 |\n",
    "| Maciek | 4 | 80 |\n",
    "| Zosia | 2 | 60 |\n",
    "| Antek | 1 | 65 |\n",
    "\n",
    "Liczymy rangi (czyli sortujemy dane malejąco):\n",
    "\n",
    "| Czas nauki | 1 | 3 | 2 | 4 | 5 |\n",
    "| --- | --- | --- | --- | --- | --- |\n",
    "| Wynik na egzaminie | 1 | 3 | 2 | 5 | 4 |\n",
    "| Różnice rang | 0 | 0 | 0 | -1 | 1 |"
   ]
  },
  {
   "cell_type": "code",
   "execution_count": null,
   "metadata": {},
   "outputs": [],
   "source": []
  }
 ],
 "metadata": {
  "kernelspec": {
   "display_name": "Python 3",
   "language": "python",
   "name": "python3"
  },
  "language_info": {
   "codemirror_mode": {
    "name": "ipython",
    "version": 3
   },
   "file_extension": ".py",
   "mimetype": "text/x-python",
   "name": "python",
   "nbconvert_exporter": "python",
   "pygments_lexer": "ipython3",
   "version": "3.10.7"
  }
 },
 "nbformat": 4,
 "nbformat_minor": 2
}
