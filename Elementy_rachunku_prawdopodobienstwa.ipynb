{
 "cells": [
  {
   "cell_type": "code",
   "execution_count": null,
   "metadata": {},
   "outputs": [],
   "source": [
    "import numpy as np\n",
    "import pandas as pd\n",
    "import seaborn as sns\n",
    "import matplotlib.pyplot as plt\n",
    "import scipy.stats as sps"
   ]
  },
  {
   "cell_type": "markdown",
   "metadata": {},
   "source": [
    "### Zmienne losowe dyskretne (skokowe)"
   ]
  },
  {
   "cell_type": "markdown",
   "metadata": {},
   "source": [
    "Zmienna losowa jest funkcją, która przypisuje zdarzeniu losowemu wartość liczbową. Wyobraźmy sobie, że jesteśmy w minikasynie i rzucamy trzema monetami. Nasz wygrana zależy od ilości wyrzuconych orłów. Mamy zatem funkcję:\n",
    "$$\n",
    "(O, O, O) \\longrightarrow 3 \\\\\n",
    "(O, O, R) \\longrightarrow 2 \\\\\n",
    "(O, R, O) \\longrightarrow 2 \\\\\n",
    "(R, O, O) \\longrightarrow 2 \\\\\n",
    "(R, R, O) \\longrightarrow 1 \\\\\n",
    "(O, R, R) \\longrightarrow 1 \\\\\n",
    "(R, O, R) \\longrightarrow 1 \\\\\n",
    "(R, R, R) \\longrightarrow 0\n",
    "$$"
   ]
  },
  {
   "cell_type": "markdown",
   "metadata": {},
   "source": [
    "Oznaczmy zmienną losową jako $X$ - czyli kwota naszej wygranej w pojedynczej grze. Prawdopodobieństwo dla zmiennej losowej oznaczamy $P(X = x_i) = p_i$, przy czym muszą być spełnione warunki:\n",
    " - $p_i \\geq 0$ - prawdopodobieństwo nie może być ujemne\n",
    " - $\\sum_{i=1}^k p_i = 1$ - suma wszystkich prawdopodobieństw musi być równa 1\n",
    "\n",
    "Zakładając, że monety są uczciwe mamy zatem:\n",
    "$$\n",
    "P(X = 3) = 1/8 \\\\\n",
    "P(X = 2) = 3/8 \\\\\n",
    "P(X = 1) = 3/8 \\\\\n",
    "P(X = 0) = 1/8 \\\\\n",
    "$$\n",
    "\n",
    "W praktyce często korzystamy z dystrybuanty prawdopodobieństwa. Jest to funkcja określona wzorem $F(x) = P(X < x) = \\sum_{x_i < x} p_i$. W naszym przykładzie mamy:\n",
    "$$\n",
    "F(x) = \\begin{cases}\n",
    "0 & \\text{dla} & x \\leq 0 \\\\\n",
    "1/8 & \\text{dla} & 0 < x \\leq 1 \\\\\n",
    "4/8 & \\text{dla} & 1 < x \\leq 2 \\\\\n",
    "7/8 & \\text{dla} & 2 < x \\leq 3 \\\\\n",
    "1 & \\text{dla} & x > 3\n",
    "\\end{cases}\n",
    "$$\n",
    "\n",
    "Własności dystrybuanty:\n",
    " - $F(x)$ przyjmuje wartości z przedziału $[0, 1]$\n",
    " - jest funkcją niemalejącą, tzn. jeśli $x_1 < x_2$, to $F(x_1) < F(x_2)$\n",
    " - $P(a \\leq X \\leq b) = F(b) - F(a)$"
   ]
  },
  {
   "cell_type": "markdown",
   "metadata": {},
   "source": [
    "Dla zmiennej losowej możemy policzyć wartość oczekiwaną, czyli średnią ważoną prawdopodobieństwem:\n",
    "$$\n",
    "E(X) = \\sum_{i=1}^n p_i x_i\n",
    "$$\n",
    "\n",
    "Podobnie możemy policzyć wariancję zmiennej losowej:\n",
    "$$\n",
    "\\operatorname{Var}(X) = \\sum_{i=1}^n p_i \\left( x_i - E(X) \\right)^2\n",
    "$$\n",
    "\n",
    "Własności wartości oczekiwanej oraz wariancji ($c$ jest wartością stałą):\n",
    " - $E(c) = c$ oraz $\\operatorname{Var}(c) = 0$\n",
    " - $E(cX) = cE(X)$ oraz $\\operatorname{Var}(cX) = c^2 \\operatorname{Var}(X)$\n",
    " - $E(X + Y) = E(X) + E(Y)$\n",
    " - $\\operatorname{Var}(X + Y) = \\operatorname{Var}(X) + \\operatorname{Var}(Y)$, pod warunkiem, że $X$ oraz $Y$ są niezależne\n",
    " \n"
   ]
  },
  {
   "cell_type": "markdown",
   "metadata": {},
   "source": [
    "Zadanie 1. Policz wartość oczekiwaną oraz wariancję dla wygranej w rzucie trzema monetami."
   ]
  },
  {
   "cell_type": "markdown",
   "metadata": {},
   "source": [
    "Zadanie 2. Przyjmijmy, że opłata wstępna w minikasynie wynosi $c = 1.50$. Ile wynosi wartość oczekiwana wygranej?"
   ]
  },
  {
   "cell_type": "markdown",
   "metadata": {},
   "source": [
    "Zadanie 3. Aby minikasyno mogło zarobić, jedną z możliwości jest wprowadzenie nieuczciwych monet. Oblicz ile wyniesie wartość oczekiwana wygranej, gdy prawdopodobieństwo wyrzucenia orła będzie wynosić $48\\%$. Jaki będzie oczekiwany utarg minikasyna, gdy w ciągu dnia zagra 1000 klientów?"
   ]
  },
  {
   "cell_type": "markdown",
   "metadata": {},
   "source": [
    "Zadanie 4. Stwórz wykres, jak zmienia się utarg minikasyna, gdy prawdopodobieństwo wyrzucenia orła zmienia się od $0\\%$ do $100\\%$."
   ]
  },
  {
   "cell_type": "markdown",
   "metadata": {},
   "source": [
    "Zadanie 5. Jesteśmy w minikasynie i rzucamy dwiema (uczciwymi) kostkami do gry. Na każdej kostce możliwy wynik to $1,2,3,4,5,6$. Gdy suma oczek na obu kostkach wynosi 10 lub więcej, to wygrywamy 100 zł. Ile musi wynosić minimalna kwota wejścia, aby minikasyno mogło zarobić?\n",
    "\n",
    "Dla ułatwienia zapisz najpierw zmienną losową $X$ oraz jej rozkład prawdopodobieństwa $P(X = x_i) = p_i$."
   ]
  },
  {
   "cell_type": "markdown",
   "metadata": {},
   "source": [
    "#### Przykładych dyskretnych rozkładów prawdopodobieństwa"
   ]
  },
  {
   "cell_type": "markdown",
   "metadata": {},
   "source": [
    "**Rozkład dwumianowy** - wielokrotnie powtarzamy eksperyment, który ma dwa możliwe wyniki: sukces i porażka. W pojedynczym eksperymencie mamy zatem prawdopodobieństwo sukcesu $p$ oraz prawdopodobieństwo porażki $q = 1-p$. Zmienna losowa $X$ opisuje ilość sukcesów w $n$ eksperymentach. Prawdopodobieństwo $k$ sukcesów w $n$ próbach wynosi:\n",
    "$$P (X = k) = \\frac{n!}{k! (n-k)!} p^k (1-p)^{n-k}$$\n",
    "\n",
    "Wartość oczekiwana wynosi $E(X) = np$, natomiast wariancja wynosi $\\operatorname{Var}(X) = npq$."
   ]
  },
  {
   "cell_type": "markdown",
   "metadata": {},
   "source": [
    "Przykład 1. Jakie jest prawdopodobieństwo wyrzucenia 5 orłów w 10 rzutach (zakładając, że moneta jest uczcicwa)?"
   ]
  },
  {
   "cell_type": "code",
   "execution_count": null,
   "metadata": {},
   "outputs": [],
   "source": []
  },
  {
   "cell_type": "markdown",
   "metadata": {},
   "source": [
    "**Rozkład Poissona** - służy do modelowania prawdopodobieństwa zajścia określonej ilości zdarzeń w danym odcinku czasu. Prawdopodobieństwo zajścia $k$ zdarzeń w jednoste czasu, zakładająć, że średnia częstotliwość jest równa $\\lambda$ wynosi:\n",
    "$$P (X = k) = \\frac{\\lambda^k e^{-\\lambda}}{k!}$$\n",
    "\n",
    "Wartość oczekiwana oraz wariancja wynoszą tyle samo: $E(X) = \\operatorname{Var}(X) = \\lambda$."
   ]
  },
  {
   "cell_type": "markdown",
   "metadata": {},
   "source": [
    "Przykład 2. Do minikasyna przychodzi w ciągu godziny średnio 5 klientów. Jakie jest prawdopodobieństwo, że w ciągu godziny przyjdzie 0, 1, 2, ... klientów?"
   ]
  },
  {
   "cell_type": "code",
   "execution_count": null,
   "metadata": {},
   "outputs": [],
   "source": []
  },
  {
   "cell_type": "markdown",
   "metadata": {},
   "source": [
    "Zadanie 6. Wczytaj zbiór danych *tips*. Jakie jest prawdopodobieństwo, że wśród 10 stolików $k = 0,1, \\dots , 10$ zostawi napiwek większy niż 3 dolary? Jako $p$ przyjmij prawdopodobieństwo napiwków powyżej 3 dolary na podstawie danych historycznych. Stwórz wykres funkcji prawdopodobieństwa oraz dystrybuanty."
   ]
  },
  {
   "cell_type": "markdown",
   "metadata": {},
   "source": [
    "Zadanie 7. Wczytaj zbiór danych *flights*. Niech $\\lambda$ oznacza średnią ilość miesięcy w ciagu roku, gdy ilość pasażerów przekroczyła 400 osób. Policz prawdopodobieństwo, że w ciągu $k=0, 1, \\dots 12$ miesięcy ilość pasażerów będzie przekraczać 400 osób. Stwórz wykres funkcji prawdopodobieństwa oraz dystrybuanty."
   ]
  },
  {
   "cell_type": "markdown",
   "metadata": {},
   "source": [
    "### Zmienne losowe ciągłe"
   ]
  },
  {
   "cell_type": "markdown",
   "metadata": {},
   "source": [
    "Wyobraźmy sobie, że nadal jesteśmy w minikasynie i teraz chcemy zagrać w ruletkę. Kręcimy kołem i zmienna losowa $X$ oznacza kąt od 0 stopni do 360 stopni. Nie możemy jednak przypisać prawdopodobieństw wszystkim możliwym wynikom, ponieważ mogą to być dowolne ułamki, np. kąt $30.554$ stopnia. Zamiast tego przypisujemy prawdopodobieństwa odcinkom, np. prawdopodobieństwo, że kąt wyniesie od 10 do 20 stopni. W takim wypadku mówimy o **gęstości prawdopodobieństwa**.\n",
    "\n",
    "Jeśli ruletka jest uczciwa, to mamy tzw. rozkład jednostajny, którego gęstość wynosi:\n",
    "$$ f(x) =\n",
    "\\begin{cases}\n",
    "\\frac{1}{360} \\quad \\text{dla} \\ 0 \\leq x < 360 \\\\\n",
    "0 \\quad \\text{w przeciwnym wypadku}\n",
    "\\end{cases}\n",
    "$$\n",
    "\n",
    "Prawdopobieństwo jest całką z gęstości:\n",
    "$$\n",
    "P(a \\leq X \\leq b) = \\int_a^b f(x) dx\n",
    "$$\n",
    "\n",
    "Własności gęstości:\n",
    " - $f(x) \\geq 0$\n",
    " - $\\int_{-\\infty}^{+\\infty} f(x) dx = 1$\n",
    " - $P(X = a) = 0$.\n",
    "\n",
    "Dla rozkładów ciągłych dystrybuantę liczymy jako:\n",
    "$$\n",
    "P(X \\leq x) = \\int_{-\\infty}^x f(t) dt\n",
    "$$\n"
   ]
  },
  {
   "cell_type": "markdown",
   "metadata": {},
   "source": [
    "Przyjmijmy, że ruletka jest skonstruowana następująco:\n",
    " - ma 36 oczek ponumerowanych od 0 do 35, czyli kąt jednego oczka wynosi 10 stopni\n",
    " - ruletka jest uczciwa, tzn. kręci się z rozkładem jednostajnym\n",
    " - kasyno pobiera opłatę 1 zł za każde zakręcenie reultką.\n",
    "\n",
    "Przy obstawianiu na konkretną liczbę, możemy wygrać 34:1. Jaki jest zysk kasyna?"
   ]
  },
  {
   "cell_type": "code",
   "execution_count": null,
   "metadata": {},
   "outputs": [],
   "source": []
  },
  {
   "cell_type": "markdown",
   "metadata": {},
   "source": [
    "#### Przykładych ciągłych rozkładów prawdopodobieństwa"
   ]
  },
  {
   "cell_type": "markdown",
   "metadata": {},
   "source": [
    "**Rozkład normalny** - przyjmuje dwa parametry: średnia $\\mu$ oraz odchylenie standardowe $\\sigma$. Gęstość rozkładu normalnego wynosi:\n",
    "$$\n",
    "f(x) = \\frac{1}{\\sigma \\sqrt{2\\pi}} \\exp{\\frac{-(x - \\mu)^2}{2\\sigma^2}}\n",
    "$$"
   ]
  },
  {
   "cell_type": "code",
   "execution_count": null,
   "metadata": {},
   "outputs": [],
   "source": [
    "mu = 0\n",
    "sigma_values = [1, 2, 3]\n",
    "x = np.linspace(-10, 10, 500)\n",
    "\n",
    "plt.figure(figsize = (8, 6))\n",
    "for sigma in sigma_values:\n",
    "    y = sps.norm.pdf(x, mu, sigma)\n",
    "    plt.plot(x, y, label = f\"σ = {sigma}\")\n",
    "plt.legend(title = \"Odchylenie standardowe\", fontsize = 10)"
   ]
  },
  {
   "cell_type": "markdown",
   "metadata": {},
   "source": [
    "**Rozkład t-Studenta** - przyjmuje parametr $\\nu$ nazywany *ilością stopni swobody*. Im większe $\\nu$ tym bardziej przypomina on rozkład normalny. Opcjonalnie, możemy podać parametry przesunięcia i skali, które odpowiadają średniej oraz odchyleniu standardowemu dla rozkładu normalnego."
   ]
  },
  {
   "cell_type": "code",
   "execution_count": null,
   "metadata": {},
   "outputs": [],
   "source": [
    "degrees_of_freedom = [1, 3, 10]\n",
    "\n",
    "plt.figure(figsize = (8, 6))\n",
    "for df in degrees_of_freedom:\n",
    "    y = sps.t.pdf(x, df)\n",
    "    plt.plot(x, y, label = f\"t (df = {df})\")\n",
    "y_normal = sps.norm.pdf(x)\n",
    "plt.plot(x, y_normal, '--', color = 'gray', label = \"Rozkład normalny\")\n",
    "plt.legend(title = \"Rozkłady\", fontsize = 10)"
   ]
  },
  {
   "cell_type": "markdown",
   "metadata": {},
   "source": [
    "**Rozkład wykładniczy** - służy do modelowania czasu między kolejnymi zdarzeniami w rozkładzie Poissona. Parametr $\\lambda >0$ jest odwrotnością średniej $\\lambda = 1 / \\mu$. Funkcja gęstości rozkładu wykładniczego wynosi:\n",
    "$$\n",
    "f(x) = \n",
    "\\begin{cases}\n",
    "\\lambda e^{-\\lambda x} && \\quad \\text{dla} \\ x \\geq 0 \\\\\n",
    "0 && \\quad \\text{dla} \\ x < 0\n",
    "\\end{cases}\n",
    "$$"
   ]
  },
  {
   "cell_type": "code",
   "execution_count": null,
   "metadata": {},
   "outputs": [],
   "source": [
    "x = np.linspace(0, 5, 500)\n",
    "lambda_values = [0.5, 1, 2]\n",
    "\n",
    "plt.figure(figsize = (8, 6))\n",
    "for lam in lambda_values:\n",
    "    y = sps.expon.pdf(x, scale = 1/lam)\n",
    "    plt.plot(x, y, label = f\"λ = {lam}\")\n",
    "\n",
    "plt.legend(title=\"Parametr λ\", fontsize=10)"
   ]
  },
  {
   "cell_type": "markdown",
   "metadata": {},
   "source": [
    "Zadanie 8. Rozkład wzrostu studentów w pewnej uczelni jest dany rozkładem normalnym o średniej $\\mu = 170$ cm oraz odchyleniem standardowym $\\sigma = 10$ cm.\n",
    " - Jaki odsetek studentów ma wzrost poniżej 160cm?\n",
    " - Jaki odsetek studentów jest powyżej 185 cm?\n",
    " - Jeśli w sposób losowy wybierzemy 5 studentów, jakie jest prawdopodobieństwo, że ich średni wzrost przekroczy 175cm?"
   ]
  },
  {
   "cell_type": "markdown",
   "metadata": {},
   "source": [
    "Zadanie 9. Czas oczekiwania klienta w kolejce w sklepie ma rozkład wykładniczy ze średnim czasem oczekiwania 5 minut (czyli $\\lambda = 1/5$).\n",
    " - Jakie jest prawdopodobieństwo, że klient czeka krócej niż 3 minuty?\n",
    " - Jakie jest prawdopodobieństwo, że klient czeka dłużej niż 10 minut?\n",
    " - Jeśli 3 klientów przyjdzie o różnych porach, jakie jest prawdopodobieństwo, że przynajmniej jeden z nich czeka dłużej niż 8 minut?"
   ]
  },
  {
   "cell_type": "markdown",
   "metadata": {},
   "source": [
    "Zadanie 10 (symulacje **Monte Carlo**).\n",
    " - Wczytaj zbiór danych *tips* i sprawdź na wykresie rozkład napiwków. Czy przypomina to rozkład normalny?\n",
    " - Wylosuj 30 napiwków ze zbioru *tips* i policz średnią wartość.\n",
    " - Powtórz poprzedni krok 1000 razy.\n",
    " - Stwórz wykres średniej wartości 30 losowych napiwków z 1000 eksperymentów. Czy przypomina to rozkład normalny?"
   ]
  }
 ],
 "metadata": {
  "kernelspec": {
   "display_name": "Python 3",
   "language": "python",
   "name": "python3"
  },
  "language_info": {
   "codemirror_mode": {
    "name": "ipython",
    "version": 3
   },
   "file_extension": ".py",
   "mimetype": "text/x-python",
   "name": "python",
   "nbconvert_exporter": "python",
   "pygments_lexer": "ipython3",
   "version": "3.10.7"
  }
 },
 "nbformat": 4,
 "nbformat_minor": 2
}
