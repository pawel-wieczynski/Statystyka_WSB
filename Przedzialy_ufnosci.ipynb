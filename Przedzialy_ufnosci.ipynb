{
 "cells": [
  {
   "cell_type": "code",
   "execution_count": 1,
   "metadata": {},
   "outputs": [],
   "source": [
    "import numpy as np\n",
    "import pandas as pd\n",
    "import seaborn as sns\n",
    "import matplotlib.pyplot as plt\n",
    "import scipy.stats as sps"
   ]
  },
  {
   "cell_type": "markdown",
   "metadata": {},
   "source": [
    "### Przedziały ufności dla wartości oczekiwanej"
   ]
  },
  {
   "cell_type": "markdown",
   "metadata": {},
   "source": [
    "Próba losowa pochodzi z populacji o rozkładzie normalnym $\\mathcal{N}(\\mu, \\sigma)$, gdzie $\\mu$ jest nieznane, natomiast znamy odchylenie standardowe $\\sigma$. Średnia arytmetyczna z próby ma rozkład $\\mathcal{N}(\\mu, \\frac{\\sigma}{\\sqrt{n}})$. Standaryzując średnią otrzymamy statystykę:\n",
    "$$\n",
    "Z = \\frac{\\hat{x} - \\mu}{\\sigma} \\sqrt{n}\n",
    "$$\n",
    "która ma standardowy rozkład normalny $\\mathcal{N}(0,1)$. Dla ustalonego współczynnika ufności $1-\\alpha$ szukamy liczbę $z_{\\alpha}$ taką, że:\n",
    "$$\n",
    "P (-z_{\\alpha} < Z < z_{\\alpha}) = 1 - \\alpha\n",
    "$$\n",
    "Po odpowiednich przekształceniach otrzymujemy:\n",
    "$$\n",
    "P (\\hat{x} - z_{\\alpha} \\frac{\\sigma}{\\sqrt{n}} < \\mu < \\hat{x} + z_{\\alpha} \\frac{\\sigma}{\\sqrt{n}}) = 1 - \\alpha\n",
    "$$"
   ]
  },
  {
   "cell_type": "markdown",
   "metadata": {},
   "source": [
    "Przykład. Czas świecenia żarówek jest zmienną losową o rozkładzie normalnym $\\mathcal{N}(\\mu, 50)$. Z partii towaru żarówek pobrano próbkę 9 żarówek i otrzymano średni czas świecenia $\\hat{x} = 2880$ godzin. Policz przedział ufności dla średniego czasu świecenia żarówek przy $95\\%$ współczynniku ufności."
   ]
  },
  {
   "cell_type": "code",
   "execution_count": null,
   "metadata": {},
   "outputs": [],
   "source": []
  },
  {
   "cell_type": "markdown",
   "metadata": {},
   "source": [
    "W praktyce jednak rzadko się zdarza, że znamy wariancję populacji generalnej. Gdy próba losowa pochodzi z populacji o rozkładzie normalnym $\\mathcal{N}(\\mu, \\sigma)$, gdzie $\\mu$ i $\\sigma$ są nieznane, wówczas korzystamy ze statystyki\n",
    "$$\n",
    "t = \\frac{\\hat{x} - \\mu}{s} \\sqrt{n-1}\n",
    "$$\n",
    "która ma rozkład t-Studenta z $n-1$ stopni swobody. Parametr $s$ oznacza odchylenie standardowe z próby.\n",
    "Po odpowiednich przekształceniach otrzymujemy:\n",
    "$$\n",
    "P (\\hat{x} - t_{\\alpha, n-1} \\frac{s}{\\sqrt{n-1}} < \\mu < \\hat{x} + t_{\\alpha, n-1} \\frac{s}{\\sqrt{n-1}}) = 1 - \\alpha\n",
    "$$"
   ]
  },
  {
   "cell_type": "markdown",
   "metadata": {},
   "source": [
    "Wracając do poprzedniego przykładu, załóżmy, że odchylenie standardowe z próby wynosi $s = 50$ godzin."
   ]
  },
  {
   "cell_type": "code",
   "execution_count": null,
   "metadata": {},
   "outputs": [],
   "source": []
  },
  {
   "cell_type": "markdown",
   "metadata": {},
   "source": [
    "W praktyce również niezbyt często zdarza się, że wiemy coś na temat rozkładu badanego zjawiska. W poprzednich ćwiczeniach (symulacja Monte Carlo) widzieliśmy jednak, że rozkład średniej z próby (przy wystarczająco dużej ilości eksperymentów) przypomina rozkład normalny. Możemy zatem przyjąć, że przedział ufności wynosi w przybliżeniu:\n",
    "$$\n",
    "P (\\hat{x} - z_{\\alpha} \\frac{s}{\\sqrt{n}} < \\mu < \\hat{x} + z_{\\alpha} \\frac{s}{\\sqrt{n}}) \\simeq 1 - \\alpha\n",
    "$$\n",
    "przy odpowiednio dużej próbie (w literaturze przyjmuje się $n>120$, ale im więcej tym lepiej)."
   ]
  },
  {
   "cell_type": "markdown",
   "metadata": {},
   "source": [
    "Względną precyzję oszacowania obliczamy jako:\n",
    "$$\n",
    "B(\\hat{x}) = \\frac{z_\\alpha s}{\\hat{x} \\sqrt{n}} * 100\\%\n",
    "$$\n",
    "Przyjmuje się, żę poniżej $5\\%$ mamy dużą precyzję oszacowania, a między $5\\%$ a $10\\%$ akceptowalną precyzję."
   ]
  },
  {
   "cell_type": "markdown",
   "metadata": {},
   "source": [
    "Zadanie 1. Wczytaj zbiór danych *tips*. Policz $99\\%$ przedział ufności dla średniej wielkości napiwków."
   ]
  },
  {
   "cell_type": "markdown",
   "metadata": {},
   "source": [
    "Zadanie 2. Aby zwiększyć precyzję oszacowania możemy albo zwiększyć próbę albo zmniejszyć współczynnik ufności.\n",
    " - Zbadaj jak zmienia się precyzja oszacowania dla współczynnika ufności od $0\\%$ do $100\\%$.\n",
    " - Ile obserwacji powinna mieć próba, aby precyzja wynosiła mniej niż $1\\%$?"
   ]
  },
  {
   "cell_type": "markdown",
   "metadata": {},
   "source": [
    "### Przedziały ufności dla wariancji i odchylenia standardowego"
   ]
  },
  {
   "cell_type": "markdown",
   "metadata": {},
   "source": [
    "Próba losowa pochodzi z populacji o rozkładzie normalnym $\\mathcal{N}(\\mu, \\sigma)$, gdzie $\\mu$ oraz $\\sigma$ są nieznane. Wówczas wariancja z próby $s^2$ ma rozkład $\\chi^2$ z $n-1$ stopniami swobody. Wzór na przedział ufności dla wariancji $\\sigma^2$ można wyprowadzić z następującej zależności:\n",
    "$$\n",
    "P \\left( \\chi^2_{1-\\alpha/2, n-1} < \\frac{(n-1) s^2}{\\sigma^2} < \\chi^2_{\\alpha/2, n-1} \\right) = 1 - \\alpha\n",
    "$$\n",
    "\n",
    "Po przekształceniach otrzymujemy przedział ufności dla $\\sigma^2$:\n",
    "$$\n",
    "\\left( \\frac{(n-1) s^2}{\\chi^2_{\\alpha/2, n-1}}, \\frac{(n-1) s^2}{\\chi^2_{1-\\alpha/2, n-1}} \\right)\n",
    "$$\n",
    "\n",
    "Odchylenie standardowe $\\sigma$ jest pierwiastkiem z wariancji, więc przedział ufności dla $\\sigma$ ma postać:\n",
    "$$\n",
    "\\left( \\sqrt{\\frac{(n-1) s^2}{\\chi^2_{\\alpha/2, n-1}}}, \\sqrt{\\frac{(n-1) s^2}{\\chi^2_{1-\\alpha/2, n-1}}} \\right)\n",
    "$$\n",
    "\n",
    "Przykład. Wylosowano 5 worków cementu. Ich waga w kg wynosiła: $50.2, 50.3, 50.5, 50.5, 50.4$. Ile wynosi przedział ufności dla odchylenia standardowego na poziomie ufności $90\\%$?"
   ]
  },
  {
   "cell_type": "code",
   "execution_count": null,
   "metadata": {},
   "outputs": [],
   "source": []
  },
  {
   "cell_type": "markdown",
   "metadata": {},
   "source": [
    "Gdy liczność próby jest duża ($n > 30$), rozkład $\\chi^2$ dąży do rozkładu normalnego. W takim przypadku można zastosować statystykę:\n",
    "$$\n",
    "Z = \\frac{S - \\sigma}{\\sigma} \\sqrt{2n}\n",
    "$$\n",
    "\n",
    "Przedział ufności dla odchylenia standardowego wynosi wówczas:\n",
    "$$\n",
    "P (s - z_{\\alpha} \\frac{s}{\\sqrt{2n}} < \\sigma < s + z_{\\alpha} \\frac{s}{\\sqrt{2n}}) \\simeq 1 - \\alpha\n",
    "$$"
   ]
  },
  {
   "cell_type": "markdown",
   "metadata": {},
   "source": [
    "Zadanie 3. Wczytaj zbiór danych *tips*. Policz $99\\%$ przedział ufności dla odchylenia standardowego wielkości napiwków."
   ]
  },
  {
   "cell_type": "markdown",
   "metadata": {},
   "source": [
    "Zadanie 4. Zbadaj jak zmienia się precyzja oszacowania dla współczynnika ufności od $0\\%$ do $100\\%$."
   ]
  },
  {
   "cell_type": "markdown",
   "metadata": {},
   "source": [
    "### Przedziały ufności dla odsetka struktury"
   ]
  },
  {
   "cell_type": "markdown",
   "metadata": {},
   "source": [
    "W zbiorach danych często mamy cechy nieliczbowe, np. płeć, wykształcenie, województwo. Możemy wówczas policzyć odsetek osób z daną cechą i budować przedział ufności dla odsetka z populacji generalnej. Niech $p$ oznacza prawdopodobieństwo wylosowania danej cechy w populacji generalnej, $n$ oznacza liczebność wylosowanej próby, $m$ oznacza ilość osób posiadających daną cechę. Wówczas $m/n$ jest odsetkiem z próby. Dla dużych prób ($n>100$) statystyka $m/n$ ma rozkład normalny o parametrach\n",
    "$$\n",
    "\\mathcal{N} \\left( p, \\sqrt{\\frac{p(1-p)}{n}} \\right)\n",
    "$$\n",
    "\n",
    "Standaryzując $m/n$ otrzymujemy:\n",
    "$$\n",
    "Z = \\frac{\\frac{m}{n} - p}{\\sqrt{\\frac{p(1-p)}{n}}}\n",
    "$$\n",
    "\n",
    "która ma standardowy rozkład normalny $\\mathcal{N}(0,1)$. Dla ustalonego współczynnika ufności $1-\\alpha$ szukamy liczbę $z_{\\alpha}$ taką, że:\n",
    "$$\n",
    "P (-z_{\\alpha} < Z < z_{\\alpha}) = 1 - \\alpha\n",
    "$$\n",
    "Po odpowiednich przekształceniach mamy przedział ufności:\n",
    "$$\n",
    "P \\left( \\frac{m}{n} - z_\\alpha \\sqrt{\\frac{p(1-p)}{n}} < p < \\frac{m}{n} + z_\\alpha \\sqrt{\\frac{p(1-p)}{n}} \\right)\n",
    "$$\n",
    "Widzimy zatem, że granice przedziału ufności są zależne od $p$, którego nie znamy. Ale dla duzych prób możemy założyć, że $p \\simeq m/n$.\n",
    "\n",
    "Przykład. W firmie pracuje 10000 pracowników. Do anonimowej ankiety wylosowano 200 pracowników z pytaniem czy w ciągu następnych 6 miesięcy planują zmienić pracę. 30 osób odpowiedziało, że tak. Chcemy oszacować przedział ufności dla odsetka wszystkich osób w firmie, które planują zmienić pracę. Przyjmijmy poziom ufności $1-\\alpha = 90\\%$."
   ]
  },
  {
   "cell_type": "code",
   "execution_count": null,
   "metadata": {},
   "outputs": [],
   "source": []
  },
  {
   "cell_type": "markdown",
   "metadata": {},
   "source": [
    "Zadanie 5. Wczytaj zbiór danych *tips*. Policz $95\\%$ przedział ufności dla odsetka mężczyzn płacących za posiłek w restauracji."
   ]
  },
  {
   "cell_type": "markdown",
   "metadata": {},
   "source": [
    "Zadanie 6. Sprawdź jak zmienia się precyzja oszacowania dla różnych parametrów $\\alpha$ oraz dla różnych wielkości próby $n$."
   ]
  }
 ],
 "metadata": {
  "kernelspec": {
   "display_name": "Python 3",
   "language": "python",
   "name": "python3"
  },
  "language_info": {
   "codemirror_mode": {
    "name": "ipython",
    "version": 3
   },
   "file_extension": ".py",
   "mimetype": "text/x-python",
   "name": "python",
   "nbconvert_exporter": "python",
   "pygments_lexer": "ipython3",
   "version": "3.10.7"
  }
 },
 "nbformat": 4,
 "nbformat_minor": 2
}
