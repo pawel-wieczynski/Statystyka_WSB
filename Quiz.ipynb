{
 "cells": [
  {
   "cell_type": "markdown",
   "metadata": {},
   "source": [
    "Pytanie 1. Kiedy stosuje się średnią harmoniczną?\n",
    "- (A) Przy badaniu średniego tempa zmian w czasie\n",
    "- (B) Przy danych w jednostkach względnych, takich jak prędkość lub gęstość zaludnienia\n",
    "- (C) Przy danych dotyczących podziału procentowego\n",
    "- (D) Przy analizie danych nieskategoryzowanych"
   ]
  },
  {
   "cell_type": "markdown",
   "metadata": {},
   "source": [
    "Pytanie 2. Czym są kwartyle?\n",
    "- (A) Środkowymi wartościami danych\n",
    "- (B) Podziałem danych na 4 równe części\n",
    "- (C) Podziałem danych na 10 równe części\n",
    "- (D) Podziałem danych na 100 równe części"
   ]
  },
  {
   "cell_type": "markdown",
   "metadata": {},
   "source": [
    "Pytanie 3. Co pokazuje wykres histogramu?\n",
    "- (A) Przedstawienie zależności między dwiema zmiennymi\n",
    "- (B) Wizualizacja rozkładu danych w postaci słupków reprezentujących liczność przedziałów\n",
    "- (C) Wyznaczenie wartości skrajnych danych\n",
    "- (D) Przedstawienie kwantyli w danych"
   ]
  },
  {
   "cell_type": "markdown",
   "metadata": {},
   "source": [
    "Pytanie 4. Jak oblicza się wariancję danych?\n",
    "- (A) Sumując wszystkie wartości i dzieląc przez liczbę obserwacji\n",
    "- (B) Obliczając średnią kwadratów odchyleń wartości od średniej\n",
    "- (C) Sumując iloczyn wartości danych i ich wag\n",
    "- (D) Obliczając odwrotność odchylenia standardowego"
   ]
  },
  {
   "cell_type": "markdown",
   "metadata": {},
   "source": [
    "Pytanie 5. Co mierzy współczynnik Pearsona?\n",
    "- (A) Siłę związku między dwiema zmiennymi\n",
    "- (B) Średnie tempo zmian w czasie\n",
    "- (C) Stopień asymetrii w rozkładzie danych\n",
    "- (D) Rozrzut danych wokół mediany"
   ]
  },
  {
   "cell_type": "markdown",
   "metadata": {},
   "source": [
    "Pytanie 6. Czym jest zmienna losowa?\n",
    "- (A) Wartością określoną dla każdej osoby w populacji\n",
    "- (B) Funkcją przypisującą zdarzeniu losowemu wartość liczbową\n",
    "- (C) Zmienną określającą wariancję danych\n",
    "- (D) Sposobem przedstawienia danych w postaci wykresu"
   ]
  },
  {
   "cell_type": "markdown",
   "metadata": {},
   "source": [
    "Pytanie 7. Jakie warunki musi spełniać rozkład zmiennej losowej $X$?\n",
    "- (A) $P(X = x_i) \\leq 0$ oraz $\\sum_{i=1}^n P(X = x_i) \\geq 1$\n",
    "- (A) $P(X = x_i) \\geq 0$ oraz $\\sum_{i=1}^n P(X = x_i) = 1$\n",
    "- (A) $P(X = x_i) > 0$ oraz $\\sum_{i=1}^n P(X = x_i) <\\> 1$\n",
    "- (D) Brak konkretnych warunków."
   ]
  },
  {
   "cell_type": "markdown",
   "metadata": {},
   "source": [
    "Pytanie 8. Co opisuje funkcja gęstości prawdopodobieństwa?\n",
    "- (A) Rozkład prawdopodobieństwa zmiennej dyskretnej\n",
    "- (B) Rozkład prawdopodobieństwa zmiennej ciągłej\n",
    "- (C) Liczbę zdarzeń w próbie\n",
    "- (D) Miary centralne danych"
   ]
  },
  {
   "cell_type": "markdown",
   "metadata": {},
   "source": [
    "Pytanie 9. Który z poniższych rozkładów jest rozkładem skokowym?\n",
    "- (A) Rozkład normalny\n",
    "- (B) Rozkład Poissona\n",
    "- (C) Rozkład t-Studenta\n",
    "- (D) Rozkład wykładniczy"
   ]
  },
  {
   "cell_type": "markdown",
   "metadata": {},
   "source": [
    "Pytanie 10. Jaka jest hipoteza zerowa w teście istotności dla średniej?\n",
    "- (A) $\\mu = \\mu_0$\n",
    "- (B) $\\mu < \\mu_0$\n",
    "- (C) $\\mu > \\mu_0$\n",
    "- (D) $\\mu \\neq \\mu_0$"
   ]
  },
  {
   "cell_type": "markdown",
   "metadata": {},
   "source": [
    "Pytanie 11. Kiedy w testowaniu hipotezy o średniej korzystamy z rozkładu t-Studenta?\n",
    "- (A) Gdy próba jest duża ($n > 120$)\n",
    "- (B) Gdy próba jest mała ($n \\leq 120$)\n",
    "- (C) Gdy wariancja jest znana\n",
    "- (D) Gdy wariancja jest nieznana i próba jest duża"
   ]
  },
  {
   "cell_type": "markdown",
   "metadata": {},
   "source": [
    "Pytanie 12. Który test nie służy do badania normalności rozkładu?\n",
    "- (A) test Jarque-Bery\n",
    "- (B) test Shapiro-Wilka\n",
    "- (C) test Kruskalla-Wallisa\n",
    "- (D) test Kołmogorowa-Smirnowa"
   ]
  },
  {
   "cell_type": "markdown",
   "metadata": {},
   "source": [
    "Pytanie 13. Kiedy stosujemy t-test z poprawką Welcha?\n",
    "- (A) Gdy wariancje próbek są różne \n",
    "- (B) Gdy próbki są zależne\n",
    "- (C) Gdy próbki są małe i niezależne\n",
    "- (D) Gdy próbki mają ten sam rozkład"
   ]
  },
  {
   "cell_type": "markdown",
   "metadata": {},
   "source": [
    "Pytanie 14. Gdy wartość p-value jest poniżej 5% to:\n",
    "- (A) Odrzucamy hipotezę zerową\n",
    "- (B) Nie mamy podstaw do odrzucenia hipotezy zerowej\n",
    "- (C) Przyjmujemy hipotezę zerową\n",
    "- (D) Odrzucamy hipotezę alternatywną"
   ]
  },
  {
   "cell_type": "markdown",
   "metadata": {},
   "source": [
    "Pytanie 15. W teście niezależności chi-kwadrat, kiedy stosuje się test Fishera?\n",
    "- (A) Gdy wszystkie obserwacje są większe niż 10\n",
    "- (B) Gdy liczba obserwacji w jednej z komórek tabeli wynosi 5 lub mniej\n",
    "- (C) Gdy dane mają jednakową wariancję\n",
    "- (D) Gdy dane mają rozkład normalny"
   ]
  },
  {
   "cell_type": "markdown",
   "metadata": {},
   "source": [
    "Pytanie 16. Do czego służy test Tukey-HSD?\n",
    "- (A) Do weryfikacji hipotezy o równości wariancji\n",
    "- (B) Do porównania średnich między parami grup po wykonaniu ANOVY\n",
    "- (C) Do sprawdzenia rozkładu normalnego danych\n",
    "- (D) Do testowania proporcji w populacji"
   ]
  },
  {
   "cell_type": "markdown",
   "metadata": {},
   "source": [
    "Pytanie 17. Co oznacza istotność statystyczna w wynikach testu ANOVA?\n",
    "- (A) Wszystkie grupy mają takie same średnie\n",
    "- (B) Wszystkie grupy mają różne średnie\n",
    "- (C) Co najmniej jedna para grup różni się istotnie pod względem średniej\n",
    "- (D) Brak istotnych różnic między grupami"
   ]
  },
  {
   "cell_type": "markdown",
   "metadata": {},
   "source": [
    "Pytanie 18. Na czym polega standardyzacja zmiennej losowej?\n",
    "- (A) Transformujemy wartości zmiennej, odejmując średnią i dzieląc przez wariancję\n",
    "- (B) Transformujemy wartości zmiennej, odejmując średnią i dzieląc przez odchylenie standardowe\n",
    "- (C) Transformujemy wartości zmiennej, odejmując medianę i dzieląc przed odchylenie standardowe\n",
    "- (D) Transformujemy wartości zmiennej do przedziału $[0,1]$"
   ]
  }
 ],
 "metadata": {
  "language_info": {
   "name": "python"
  }
 },
 "nbformat": 4,
 "nbformat_minor": 2
}
