{
 "cells": [
  {
   "cell_type": "code",
   "execution_count": 1,
   "metadata": {},
   "outputs": [],
   "source": [
    "import numpy as np\n",
    "import pandas as pd\n",
    "import seaborn as sns\n",
    "import matplotlib.pyplot as plt\n",
    "import scipy.stats as sps\n",
    "import pingouin as pg"
   ]
  },
  {
   "cell_type": "markdown",
   "metadata": {},
   "source": [
    "### Testy istotności dla wartości średniej"
   ]
  },
  {
   "cell_type": "markdown",
   "metadata": {},
   "source": [
    "Nie znamy średniej wartości badanej cechy w populacji generalnej, ale mamy próbkę, na podstawie której możemy testować różne hipotezy z określonym prawdopodobieństwem. Proces przebiega bardzo podobnie jak przy kontrukcji przedziałów ufności.\n",
    "\n",
    "Hipoteza zerowa ($H_0$) średnia wartość w populacji generalnej wynosi $\\mu_0$. Hipotezę alternatywną ($H_1$) możemy sformułować na trzy sposoby:\n",
    " - średnia wartość w populacji generalnej jest różna od $\\mu_0$\n",
    " - średnia wartość w populacji generalnej jest większa od $\\mu_0$\n",
    " - średnia wartość w populacji generalnej jest mniejsza od $\\mu_0$.\n",
    "\n",
    "Statystyka testowa to ustandaryzowana wartość średniej z próby:\n",
    " - gdy próba jest mała, $n \\leq 120$, to korzystamy ze statystyki $t = \\frac{\\hat{x} - \\mu_0}{s} \\sqrt{n-1}$, która ma rozkład t-Studenta o $n-1$ stopniach swobody\n",
    " - gdy próba jest duża, $n > 120$, to korzystamy ze statystyki $Z = \\frac{\\hat{x} - \\mu_0}{s} \\sqrt{n}$, która ma standardowy rozkład normalny.\n",
    "\n",
    "Dla ustalonego poziomu istotności $\\alpha$ definiujemy obszary krytyczne, w zależności od przyjętej hipotezy alternatywnej:\n",
    " - dwustronny obszar krytyczny, $P(|Z| \\geq z_\\alpha) = \\alpha$\n",
    " - lewostronny obszar krytyczny, $P(Z \\leq z_\\alpha) = \\alpha$\n",
    " - prawostronny obszar krytyczny, $P(Z \\geq z_\\alpha) = \\alpha$\n",
    "\n",
    "Jeśli statystyka testowa przekracza wartość krytyczną, to odrzucamy hipotezę zerową na rzeczy hipotezy alternatywnej. W przeciwnym wypadku nie mamy podstaw do odrzucenia hipotezy zerowej.\n",
    "\n",
    "Przykład. Średni dzienny utarg kasyn w okolicy wynosi 10000 zł. Otwieramy własne kasyno i przez 150 dni mierzymy dzienny utarg. Wychodzi nam średnia 9500 zł i odchylenie standardowe 1500 zł. Sprawdźmy hipotezę, czy średni dzienny utarg naszego kasyna jest równy średniemu dziennemu utargowi kasyn z okolicy. Przyjmijmy poziom ufności $95\\%$."
   ]
  },
  {
   "cell_type": "code",
   "execution_count": null,
   "metadata": {},
   "outputs": [],
   "source": [
    "# H0:\n",
    "# H1:\n",
    "\n",
    "# Statystyka testowa\n",
    "\n",
    "# Wartość krytyczna"
   ]
  },
  {
   "cell_type": "markdown",
   "metadata": {},
   "source": [
    "W praktyce często zależy nam na porównaniu dwóch średnich i zbadaniu hipotezy czy dwie populacje różną się między sobą w istotny sposób. Na tym bazują np. *testy A/B* wykorzystywane w marketingu lub w badaniach klinicznych. Mamy dwie populacje oraz dwie próbki, wprowadźmy zatem następujące oznaczenia:\n",
    " - $\\mu_1, \\mu_2$ - nieznane wartości średnie w obu populacjach\n",
    " - $n_1, n_2$ - liczebności obu próbek\n",
    " - $\\hat{x}_1, \\hat{x}_2$ - wartości średnie z obu próbek\n",
    " - $s_1, s_2$ - odchylenia standardowe z obu próbek.\n",
    "\n",
    "Ponadto zakładamy, że obie próbki są niezależne. Hipotezy formułujemy następująco:\n",
    " - $H_0: \\ \\mu_1 = \\mu_2$\n",
    " - $H_1: \\ \\mu_1 \\neq \\mu_2$ (lub mniejsza/większa)\n",
    "\n",
    "Hipotezę zerową, możemy sformułować jako $\\mu_1 - \\mu_2 = 0$, czyli tak naprawdę badamy czy różnica w średnich jest istotna. Statystyki testowe wynoszą:\n",
    "$$\n",
    "Z = \\frac{\\hat{x}_1 - \\hat{x}_2}{\\sqrt{\\frac{s^2_1}{n_1} + \\frac{s^2_2}{n_2}}} \\sim \\mathcal{N}(0,1), \\quad \\text{gdy obie próby są wystarczająco duże}\n",
    "$$\n",
    "oraz\n",
    "$$\n",
    "t = \\frac{\\hat{x}_1 - \\hat{x}_2}{\\sqrt{\\frac{n_1 s^2_1 + n_2 s^2_2}{n_1 + n_2 -2} \\left( \\frac{1}{n_1} + \\frac{1}{n_2} \\right) }} \\sim t(n_1 + n_2 -2), \\quad \\text{gdy obie próby pochodzą z rozkładu o takich samych wariancjach}\n",
    "$$\n",
    "\n",
    "Przykład. Chcemy zaktualizować wygląd strony internetowej naszego e-sklepu. Dostaliśmy dwa projekty i nie wiemy, który jest lepszy. Przed podjęciem ostatecznej decyzji bierzemy zatem na próbę oba (powiedzmy na 30 dni). Użytkownikom e-sklepu przez miesiąc w sposób losowy są wyświetlane oba warianty:\n",
    " - Wariant A został wyświetlony 350 użytkownikom, średnia wartość koszyka wynosiła 550 zł, a odchylenie standardowe 120 zł.\n",
    " - Wariant B został wyświetlony 341 użytkownikom, średnia wartość koszyka wynosiła 585 zł, a odchylenie standardowe 74 zł.\n",
    "Zbadajmy hipotezę, że Wariant B średnio skutkuje większą wartością koszyka niż Wariant A. Przyjmijmy poziom ufności $95\\%$."
   ]
  },
  {
   "cell_type": "code",
   "execution_count": null,
   "metadata": {},
   "outputs": [],
   "source": [
    "# H0:\n",
    "# H1:\n",
    "\n",
    "# Statystyka testowa\n",
    "\n",
    "# Wartość krytyczna\n"
   ]
  },
  {
   "cell_type": "markdown",
   "metadata": {},
   "source": [
    "Gdy próbki są zależne, to korzystamy z innych wzorów. Taka sytuacja występuje np. w badaniach klinicznych, gdy tych samych pacjentów badamy dwukrotnie: przed podaniem leku oraz po podaniu leku. Wówczas badamy zmianę badanej cechy, np. $x$ oznacza ciśnienie krwi przed podaniem leku, natomiast $y$ oznacza ciśnienie krwi po podaniu leku. Liczymy różnice $z = y - x$ i badamy hipotezę zerową $\\mu_z = 0$. Statystyka testowa ma postać:\n",
    "$$\n",
    "t = \\frac{\\hat{z}}{s_z} \\sqrt{n-1}\n",
    "$$"
   ]
  },
  {
   "cell_type": "markdown",
   "metadata": {},
   "source": [
    "Czasami trzeba zbadać równość średnich w kilku populacjach. Korzystamy wtedy z metod ANOVA (Analysis of Variance)."
   ]
  },
  {
   "cell_type": "markdown",
   "metadata": {},
   "source": [
    "Zadanie 1. Wczytaj zbiór danych *tips*. Zbadaj następujące hipotezy:\n",
    " - kobiety i mężczyźni średnio zostawiają takie same napiwki\n",
    " - osoby palące i niepalące średnio zostawiają takie same napiwki\n",
    " - podczas kolacji i podczas obiadu klienci średnio zostawiają takie same napiwki"
   ]
  },
  {
   "cell_type": "markdown",
   "metadata": {},
   "source": [
    "Zadanie 2. Wczytaj zbiór danych *exercise*. Zbadaj następujące hipotezy:\n",
    " - czy osoby po posiłku niskotłuszczowym mają taki sam puls 1 minutę i 30 minut po posiłku\n",
    " - czy osoby po posiłku beztłuszczowym mają taki sam puls 1 minutę i 30 minut po posiłku"
   ]
  },
  {
   "cell_type": "markdown",
   "metadata": {},
   "source": [
    "### Testy istotności dla wariancji"
   ]
  },
  {
   "cell_type": "markdown",
   "metadata": {},
   "source": [
    "Hipoteza zerowa ($H_0$) wariancja wartość w populacji generalnej wynosi $\\sigma^2_0$. Hipotezę alternatywną ($H_1$) możemy sformułować na trzy sposoby:\n",
    " - wariancja w populacji generalnej jest różna od $\\sigma^2_0$\n",
    " - wariancja w populacji generalnej jest większa od $\\sigma^2_0$\n",
    " - wariancja w populacji generalnej jest mniejsza od $\\sigma^2_0$.\n",
    "\n",
    "Statystyka testowa ma postać:\n",
    "$$\n",
    "\\chi^2 = \\frac{ns^2}{\\sigma^2_0} = \\frac{1}{\\sigma^2_0} \\sum_{i=1}^n \\left( X_i - \\hat{X} \\right)^2\n",
    "$$\n",
    "która ma rozkład $\\chi^2$ o $n-1$ stopniach swobody. Dla dużej ilości stopni swobody, rozkład ten dąży do rozkładu normalnego, łatwiej wtedy skorzystać ze statystyki:\n",
    "$$\n",
    "Z = \\sqrt{2 \\chi^2} - \\sqrt{2n - 3} \\sim \\mathcal{N}(0,1)\n",
    "$$\n",
    "\n",
    "W praktyce często zależy nam na porównaniu dwóch wariancji i zbadaniu hipotezy czy dwie populacje różną się między sobą w istotny sposób. Sprawdzamy hipotezę zerową $\\sigma^2_1 = \\sigma^2_2$. Statystyka testowa ma postać $F = s^2_1 / s^2_2$ i ma rozkład F-Snedeckora o $n_1 - 1$ oraz $n_1 - 2$ stopniach swobody.\n",
    "\n",
    "Czasami trzeba zbadać równość wariancji w kilku populacjach. Korzystamy wtedy z testu Bartletta lub testu Hartleya lub testu Cochrana."
   ]
  },
  {
   "cell_type": "code",
   "execution_count": null,
   "metadata": {},
   "outputs": [],
   "source": [
    "# Kontynuacja przykładu ze sklepem internetowym\n",
    "# H0:\n",
    "# H1:\n",
    "\n",
    "# Statystyka testowa\n",
    "\n",
    "# Wartość krytyczna\n"
   ]
  },
  {
   "cell_type": "markdown",
   "metadata": {},
   "source": [
    "Zadanie 3. Wczytaj zbiór danych *tips*. Zbadaj następujące hipotezy:\n",
    " - wariancja napiwków zostawianych przez kobiety i mężczyzn jest taka sama\n",
    " - wariancja napiwków zostawianych przez osoby palące i niepalące jest taka sama\n",
    " - wariancja napiwków zostawianych obiadu i podczas kolacji jest taka sama"
   ]
  },
  {
   "cell_type": "markdown",
   "metadata": {},
   "source": [
    "Zadanie 4. Przy testowaniu hipotezy, że średnie w obu populacjach są równe, zakładamy, że wariancja w obu populacjach jest taka sama. W praktyce często się zdarza, że wariancje są różne. W takim przypadku korzystamy z innej wersji testu, tzw. t-test z poprawką Welcha: https://en.wikipedia.org/wiki/Welch%27s_t-test. Wczytaj zbiór danych *iris* i sprawdź czy średnia średnia długość płatków między garunkami *setosa* i *virginica* różni się między sobą w sposób istotny:\n",
    " - najpierw zbadaj hipotezę czy obie próbki pochodzą z populacji o jednakowych wariancjach\n",
    " - różne wersje t-testu są w bibliotece *scipy.stats*: funkcja *ttest_ind* oraz *ttest_rel*."
   ]
  },
  {
   "cell_type": "markdown",
   "metadata": {},
   "source": [
    "### Testy istotności dla odsetka populacji"
   ]
  },
  {
   "cell_type": "markdown",
   "metadata": {},
   "source": [
    "Badamy jakąś cechę populacji, która nie jest mierzalna w sposób ilościowy, np. płeć, wykształcenie, pytania ankietowe typu tak/nie. Możemy wówczas testować hipotezy sprawdzające, że jakiś procent osób w populacji generalnej posiada wybraną cechę, bazując na proporcjach w wylosowanej próbce. Wprowadźmy następujące oznaczenia:\n",
    " - $n$ - ilość wszystkich osób w wylosowanej próbce\n",
    " - $m$ - ilość osób w wylosowanej próbce posiadających badaną cechę\n",
    " - $p$ - odsetek osób w całej populacji posiadających wybraną cechę.\n",
    "\n",
    "Hipoteza zerowa ma postać $p = p_0$. Hipotezy alternatywne formułujemy na jeden z trzech sposobów: $\\neq, <, >$\n",
    "\n",
    "Dla dużych próbek współczynnik $m/n$ ma rozkład normalny o średniej $p$ oraz wariancji $p(1-p)/n$. Standaryzujemy zatem ten współczynnik i otrzymujemy statystykę:\n",
    "$$\n",
    "Z = \\frac{\\frac{m}{n} - p_0}{\\sqrt{\\frac{p_0 (1-p_0)}{n}}} \\sim \\mathcal{N} (0,1)\n",
    "$$"
   ]
  },
  {
   "cell_type": "markdown",
   "metadata": {},
   "source": [
    "Przykład. W firmie pracuje 10000 pracowników. Do anonimowej ankiety wylosowano 150 pracowników z pytaniem czy w ciągu następnych 6 miesięcy planują zmienić pracę. 28 osób odpowiedziało, że tak. Chcemy zbadać hipotezę zerową, że 20% wszystkich pracowników zamierza zmienić pracę (na poziomie istotności $\\alpha = 5\\%$)."
   ]
  },
  {
   "cell_type": "code",
   "execution_count": null,
   "metadata": {},
   "outputs": [],
   "source": [
    "# H0:\n",
    "# H1:\n",
    "\n",
    "# Statystyka testowa\n",
    "\n",
    "# Wartość krytyczna\n"
   ]
  },
  {
   "cell_type": "markdown",
   "metadata": {},
   "source": [
    "W praktyce często zależy nam na porównaniu dwóch odestków i zbadaniu hipotezy czy obie grupy różną się między sobą w istotny sposób pod względem liczebności. Sprawdzamy hipotezę zerową $m_1/n_1 = m_2/n_2$. Statystyka testowa ma postać\n",
    "$$\n",
    "Z = \\frac{ \\frac{m_1}{n_1} - \\frac{m_2}{n_2}} { \\sqrt{\\frac{ \\frac{m_1 + m_2}{n_1+n_2} \\left(1 - \\frac{m_1 + m_2}{n_1+n_2} \\right)} {\\frac{n_1 n_2}{n_1 + n_2}}} } \\sim \\mathcal{N} \\left( 0, 1 \\right)\n",
    "$$"
   ]
  },
  {
   "cell_type": "markdown",
   "metadata": {},
   "source": [
    "Zadanie 5. Wczytaj zbiór danych *tips*. Zbadaj następujące hipotezy:\n",
    " - odsetek kobiet i mężczyzn płacących w restauracji jest taki sam\n",
    " - odsetek osób palących i niepalących płacących w restauracji jest taki sam."
   ]
  },
  {
   "cell_type": "markdown",
   "metadata": {},
   "source": [
    "### Testy normalności rozkładu"
   ]
  },
  {
   "cell_type": "markdown",
   "metadata": {},
   "source": [
    "W poprzednich testach często zakładamy, że dane pochodzą z populacji o rozkładzie normalnym. Najprostszym sposobem na sprawdzenie, czy dane mają rozkład normalny jest zrobienie kilku wykresów."
   ]
  },
  {
   "cell_type": "code",
   "execution_count": 3,
   "metadata": {},
   "outputs": [],
   "source": [
    "tips = sns.load_dataset(\"tips\")"
   ]
  },
  {
   "cell_type": "code",
   "execution_count": null,
   "metadata": {},
   "outputs": [],
   "source": [
    "mean, std = np.mean(tips[\"total_bill\"]), np.std(tips[\"total_bill\"])\n",
    "x = np.linspace(np.min(tips[\"total_bill\"]), np.max(tips[\"total_bill\"]), 100)\n",
    "pdf = sps.norm.pdf(x, mean, std)\n",
    "\n",
    "sns.histplot(\n",
    "    tips[\"total_bill\"]\n",
    "    , stat = 'density'\n",
    "    , kde = True\n",
    "    , label = 'Gęstość empiryczna'\n",
    ")\n",
    "plt.plot(x, pdf, 'r--', label = 'Gęstość teoretyczna')\n",
    "plt.legend()"
   ]
  },
  {
   "cell_type": "code",
   "execution_count": null,
   "metadata": {},
   "outputs": [],
   "source": [
    "sorted_data = np.sort(tips[\"total_bill\"])\n",
    "y = np.arange(1, len(sorted_data) + 1) / len(sorted_data)\n",
    "plt.plot(sorted_data, y, marker = '.', linestyle = 'none', label = 'Dystrybuanta empiryczna')\n",
    "\n",
    "cdf_theoretical = sps.norm.cdf(sorted_data, mean, std)\n",
    "plt.plot(sorted_data, cdf_theoretical, 'r--', label = 'Dystrybuanta teoretyczna')\n",
    "\n",
    "plt.legend()"
   ]
  },
  {
   "cell_type": "code",
   "execution_count": null,
   "metadata": {},
   "outputs": [],
   "source": [
    "sps.probplot(tips[\"total_bill\"], dist = \"norm\", plot = plt)"
   ]
  },
  {
   "cell_type": "markdown",
   "metadata": {},
   "source": [
    "Istnieje kilka rodzajów testów, które weryfikują hipotezę, że wylosowana próbka pochodzi z populacji o rozkładzie normalnym. Najpopularniejsze testy to:\n",
    " - test Shapiro-Wilka - bazuje na kwantylach z próby\n",
    " - test Jarque-Bery - bazuje na skośności i kurtozie próby\n",
    " - test Kołmogorowa-Smirnowa - bazuje na maksymalnej odległości między dystrybuantą z próby a dytrybuantą rozkładu normalnego.\n",
    "\n",
    "We wszystkich tych testach mamy następujące hipotezy:\n",
    " - $H_0$: dane pochodzą z populacji o rozkładzie normalnym\n",
    " - $H_1$: dane nie pochodzą z populacji o rozkładzie normalnym"
   ]
  },
  {
   "cell_type": "code",
   "execution_count": null,
   "metadata": {},
   "outputs": [],
   "source": []
  },
  {
   "cell_type": "code",
   "execution_count": null,
   "metadata": {},
   "outputs": [],
   "source": []
  },
  {
   "cell_type": "code",
   "execution_count": null,
   "metadata": {},
   "outputs": [],
   "source": []
  },
  {
   "cell_type": "markdown",
   "metadata": {},
   "source": [
    "Zadanie 6. Zbadaj czy dane w zbiorze *iris* mają rozkład normalny."
   ]
  },
  {
   "cell_type": "markdown",
   "metadata": {},
   "source": [
    "### ANOVA"
   ]
  },
  {
   "cell_type": "markdown",
   "metadata": {},
   "source": [
    "Wracamy do testowania hipotez dotyczących wartości średniej. Gdy mamy kilka próbek i chcemy porównać czy ich wartości średnie różnią się w sposób istotny między sobą, moglibyśmy wykonać kilka t-testów (dla wszystkich par próbek). Ale nie jest to prawidłowe podejście, ponieważ w każdym teście mamy jakiś poziom istotności, np. 5%. Przy wielokrotnych testach ten *\"margines błędu\"* będzie się akumulował. Z tego też powodu w regresji liniowej nieistotne zmienne usuwamy pojedynczo z modelu.\n",
    "\n",
    "W skrócie, testy ANOVA porównują wariancję wewnątrz próbek oraz wariancję pomiędzy próbkami. Mamy następujące hipotezy:\n",
    " - $H_0$ - średnie we wszystkich populacjach są równe\n",
    " - $H_1$ - co najmniej jedna z populacji ma istotnie inną średnią od pozostałych.\n",
    "\n",
    "Rodzaje testów ANOVA:\n",
    " - ANOVA jednokierunkowa / dwukierunkowa / wielokierunkowa - zakładamy, że wszystkie próbki pochodzą z populacji o rozkładach normalnych oraz jednakowych wariancjach (https://pingouin-stats.org/build/html/generated/pingouin.anova.html)\n",
    " - ANOVA z poprawką Welcha - gdy populacje nie mają jednakowych wariancji (analogicznie jak w t-teście z poprawką Welcha) (https://pingouin-stats.org/build/html/generated/pingouin.welch_anova.html)\n",
    " - ANOVA dla próbek zależnych (https://pingouin-stats.org/build/html/generated/pingouin.rm_anova.html)\n",
    " - test Kruskalla-Wallisa - gdy próbki pochodzą z populacji o dowolnych rozkładzie (https://pingouin-stats.org/build/html/generated/pingouin.kruskal.html)\n"
   ]
  },
  {
   "cell_type": "code",
   "execution_count": null,
   "metadata": {},
   "outputs": [],
   "source": []
  },
  {
   "cell_type": "code",
   "execution_count": null,
   "metadata": {},
   "outputs": [],
   "source": []
  },
  {
   "cell_type": "markdown",
   "metadata": {},
   "source": [
    "Jak widzimy, ANOVA mówi nam, że co najmniej jedna grupa różni się od pozostałych pod względem średniej. Ale nie wiemy która grupa konkretnie (może wszystkie?). Do takiej analizy służą testy post-hoc, najpopularniejszym z nich jest Tukey-HSD test (https://pingouin-stats.org/build/html/generated/pingouin.pairwise_tukey.html)."
   ]
  },
  {
   "cell_type": "code",
   "execution_count": null,
   "metadata": {},
   "outputs": [],
   "source": []
  },
  {
   "cell_type": "markdown",
   "metadata": {},
   "source": [
    "Zadanie 7a. Wczytaj zbiór danych *tips*. Zbadaj następujące hipotezy:\n",
    " - średnie napiwki ze względu na płeć i osoba paląca/niepaląca są równe\n",
    " - średnie napiwki ze względu na płeć i osoba paląca/niepaląca i rodzaj posiłku (obiad/kolacja) są równe.\n",
    "\n",
    "Zadanie 7b. Wykonaj wykresy pokazujące różnice między grupami.\n",
    "\n",
    "Zadanie 7c. Wykonaj testy post-hoc."
   ]
  },
  {
   "cell_type": "markdown",
   "metadata": {},
   "source": [
    "### Testy dla zmiennych jakościowych"
   ]
  },
  {
   "cell_type": "markdown",
   "metadata": {},
   "source": [
    "Do tej głównie pory badaliśmy hipotezy dotyczące danych numerycznych oraz ich statystyk (średnia, wariancja, rozkład normalny). Przy danych jakościowych często badamy niezależność dwóch zmiennych. Hipotezy są następujące:\n",
    " - $H_0$: zmienne są niezależne\n",
    " - $H_1$: zmienne nie są niezalezne.\n",
    "\n",
    "Najczęściej stosowanym testem jest test niezależności chi-kwadrat. Bierzemy obie zmienne $x$ oraz $y$ i tworzymy dla nich *macierz kontyngencji*. Gdyby zmienne były niezależne, to w macierzy kontyngencji byłyby zachowane pewne proporcje. Wprowadźmy następujące oznaczenia:\n",
    " - $O_{ij}$ - ilość obserwacji w $i$-tym wierszy i $j$-tej kolumnie\n",
    " - $R_i = \\sum_{j=1}^c O_{ij}$ - suma po $i$-tym wierszu\n",
    " - $C_j = \\sum_{i=1}^r O_{ij}$ - suma po $j$-tej kolumnie\n",
    " - $N = \\sum_{j=1}^c \\sum_{i=1}^r O_{ij}$ - suma wszystkich obserwacji\n",
    " - $E_{ij} = \\frac{R_i \\times C_j}{N}$ - oczekiwane ilości obserwacji przy założeniu niezależności zmiennych.\n",
    "\n",
    "Wówczas statystyka testowa ma postać:\n",
    "$$\n",
    "\\chi^2 = \\sum_{i=1}^r \\sum_{j=1}^c \\frac{(O_{ij} - E_{ij})^2}{E_{ij}} \\sim \\chi^2 ((r-1)\\times(c-1))\n",
    "$$"
   ]
  },
  {
   "cell_type": "code",
   "execution_count": null,
   "metadata": {},
   "outputs": [],
   "source": []
  },
  {
   "cell_type": "code",
   "execution_count": null,
   "metadata": {},
   "outputs": [],
   "source": []
  },
  {
   "cell_type": "code",
   "execution_count": null,
   "metadata": {},
   "outputs": [],
   "source": []
  },
  {
   "cell_type": "markdown",
   "metadata": {},
   "source": [
    "Gdy w którejś z komórek tabeli kontyngencji jest 5 lub mniej obserwacji, to stosujemy tzw. test Fishera: https://en.wikipedia.org/wiki/Fisher%27s_exact_test"
   ]
  },
  {
   "cell_type": "markdown",
   "metadata": {},
   "source": [
    "Zadanie 8. Zbadaj zależność między dniem tygodnia a rodzajem posiłku dla zbioru danych *tips*."
   ]
  }
 ],
 "metadata": {
  "kernelspec": {
   "display_name": "Python 3",
   "language": "python",
   "name": "python3"
  },
  "language_info": {
   "codemirror_mode": {
    "name": "ipython",
    "version": 3
   },
   "file_extension": ".py",
   "mimetype": "text/x-python",
   "name": "python",
   "nbconvert_exporter": "python",
   "pygments_lexer": "ipython3",
   "version": "3.10.7"
  }
 },
 "nbformat": 4,
 "nbformat_minor": 2
}
